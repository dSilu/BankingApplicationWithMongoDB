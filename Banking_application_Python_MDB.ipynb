{
  "nbformat": 4,
  "nbformat_minor": 0,
  "metadata": {
    "colab": {
      "name": "MDB_ASsignment.ipynb",
      "provenance": []
    },
    "kernelspec": {
      "name": "python3",
      "display_name": "Python 3"
    },
    "language_info": {
      "name": "python"
    }
  },
  "cells": [
    {
      "cell_type": "markdown",
      "metadata": {
        "id": "aEnXJUucGtoP"
      },
      "source": [
        "## Installing Required Packages"
      ]
    },
    {
      "cell_type": "code",
      "metadata": {
        "id": "aexMfRV5AsK-",
        "colab": {
          "base_uri": "https://localhost:8080/"
        },
        "outputId": "c9fdf5db-6072-4047-9035-d967c49d65a0"
      },
      "source": [
        "!pip install dnspython\n",
        "!-m pip install pymongo[srv]\n",
        "!pip install pytz"
      ],
      "execution_count": 2,
      "outputs": [
        {
          "output_type": "stream",
          "name": "stdout",
          "text": [
            "Collecting dnspython\n",
            "  Downloading dnspython-2.1.0-py3-none-any.whl (241 kB)\n",
            "\u001b[?25l\r\u001b[K     |█▍                              | 10 kB 24.8 MB/s eta 0:00:01\r\u001b[K     |██▊                             | 20 kB 26.7 MB/s eta 0:00:01\r\u001b[K     |████                            | 30 kB 19.4 MB/s eta 0:00:01\r\u001b[K     |█████▍                          | 40 kB 16.1 MB/s eta 0:00:01\r\u001b[K     |██████▊                         | 51 kB 8.0 MB/s eta 0:00:01\r\u001b[K     |████████▏                       | 61 kB 7.9 MB/s eta 0:00:01\r\u001b[K     |█████████▌                      | 71 kB 8.1 MB/s eta 0:00:01\r\u001b[K     |██████████▉                     | 81 kB 9.0 MB/s eta 0:00:01\r\u001b[K     |████████████▏                   | 92 kB 9.4 MB/s eta 0:00:01\r\u001b[K     |█████████████▌                  | 102 kB 7.5 MB/s eta 0:00:01\r\u001b[K     |███████████████                 | 112 kB 7.5 MB/s eta 0:00:01\r\u001b[K     |████████████████▎               | 122 kB 7.5 MB/s eta 0:00:01\r\u001b[K     |█████████████████▋              | 133 kB 7.5 MB/s eta 0:00:01\r\u001b[K     |███████████████████             | 143 kB 7.5 MB/s eta 0:00:01\r\u001b[K     |████████████████████▎           | 153 kB 7.5 MB/s eta 0:00:01\r\u001b[K     |█████████████████████▋          | 163 kB 7.5 MB/s eta 0:00:01\r\u001b[K     |███████████████████████         | 174 kB 7.5 MB/s eta 0:00:01\r\u001b[K     |████████████████████████▍       | 184 kB 7.5 MB/s eta 0:00:01\r\u001b[K     |█████████████████████████▊      | 194 kB 7.5 MB/s eta 0:00:01\r\u001b[K     |███████████████████████████     | 204 kB 7.5 MB/s eta 0:00:01\r\u001b[K     |████████████████████████████▍   | 215 kB 7.5 MB/s eta 0:00:01\r\u001b[K     |█████████████████████████████▉  | 225 kB 7.5 MB/s eta 0:00:01\r\u001b[K     |███████████████████████████████▏| 235 kB 7.5 MB/s eta 0:00:01\r\u001b[K     |████████████████████████████████| 241 kB 7.5 MB/s \n",
            "\u001b[?25hInstalling collected packages: dnspython\n",
            "Successfully installed dnspython-2.1.0\n",
            "/bin/bash: - : invalid option\n",
            "Usage:\t/bin/bash [GNU long option] [option] ...\n",
            "\t/bin/bash [GNU long option] [option] script-file ...\n",
            "GNU long options:\n",
            "\t--debug\n",
            "\t--debugger\n",
            "\t--dump-po-strings\n",
            "\t--dump-strings\n",
            "\t--help\n",
            "\t--init-file\n",
            "\t--login\n",
            "\t--noediting\n",
            "\t--noprofile\n",
            "\t--norc\n",
            "\t--posix\n",
            "\t--rcfile\n",
            "\t--restricted\n",
            "\t--verbose\n",
            "\t--version\n",
            "Shell options:\n",
            "\t-ilrsD or -c command or -O shopt_option\t\t(invocation only)\n",
            "\t-abefhkmnptuvxBCHP or -o option\n",
            "Requirement already satisfied: pytz in /usr/local/lib/python3.7/dist-packages (2018.9)\n"
          ]
        }
      ]
    },
    {
      "cell_type": "code",
      "metadata": {
        "id": "lqtVCzgs9DX5"
      },
      "source": [
        "# import packages\n",
        "\n",
        "import pymongo\n",
        "from datetime import datetime\n",
        "from getpass import getpass\n",
        "import pytz"
      ],
      "execution_count": 3,
      "outputs": []
    },
    {
      "cell_type": "markdown",
      "metadata": {
        "id": "NJbjZllmG0I8"
      },
      "source": [
        "## Establish connection with database"
      ]
    },
    {
      "cell_type": "code",
      "metadata": {
        "id": "__x9ln0Xm-rP"
      },
      "source": [
        "# Establish the mogoDB client-server connection\n",
        "\n",
        "client = pymongo.MongoClient(\"mongodb+srv://<user>:<password>@<cluster_name>.zwgfj.mongodb.net/myFirstDatabase?retryWrites=true&w=majority\")\n",
        "db = client.test\n"
      ],
      "execution_count": 4,
      "outputs": []
    },
    {
      "cell_type": "code",
      "metadata": {
        "id": "nY5xRky2nnas"
      },
      "source": [
        "# Open collection\n",
        "\n",
        "db = client.get_database('Database_Name')  # Change the Database_Name to your working database\n",
        "mycol = db.collection_name                 # Change collection_name to your working collection name"
      ],
      "execution_count": 5,
      "outputs": []
    },
    {
      "cell_type": "code",
      "metadata": {
        "colab": {
          "base_uri": "https://localhost:8080/"
        },
        "id": "ijHMztj3n7Fo",
        "outputId": "2b6a0eca-1e4c-4e46-c30a-cee70f146130"
      },
      "source": [
        "# Count documents in collection\n",
        "\n",
        "n = mycol.count_documents({})\n",
        "print('In the collection {0} number of documents are present.'.format(n))"
      ],
      "execution_count": 6,
      "outputs": [
        {
          "output_type": "stream",
          "name": "stdout",
          "text": [
            "In the collection 2 number of documents are present.\n"
          ]
        }
      ]
    },
    {
      "cell_type": "code",
      "metadata": {
        "id": "ZuBjyFuPn9Op"
      },
      "source": [
        "# Delete all the documents (if necessary)\n",
        "mycol.delete_many({})\n",
        "print('Documents deleted succesfully');"
      ],
      "execution_count": null,
      "outputs": []
    },
    {
      "cell_type": "markdown",
      "metadata": {
        "id": "jxeeN9cTGmJV"
      },
      "source": [
        "## Account opening form"
      ]
    },
    {
      "cell_type": "code",
      "metadata": {
        "colab": {
          "base_uri": "https://localhost:8080/"
        },
        "id": "tNdb7-IQoK2E",
        "outputId": "bfdf3957-04db-4dca-cb40-49b482811947"
      },
      "source": [
        "# Account opening form\n",
        "\n",
        "def user_name_verifier(u_name):\n",
        "  if db.bank_user.find({'_id':u_name}).count() == 0 and len(u_name)>=6<11:\n",
        "    print('Username available')\n",
        "  else:\n",
        "    print('Username not available.\\nType another one.')\n",
        "\n",
        "# welcome statement\n",
        "print('Wellcome to PyBankingWay!\\nNote: This is an acoount opening form.\\nChoose an unique User Name, this will be your identity for the bank.\\nBecareful while filling the form.\\nThe user name should contain at least\\n*\\tOne alphabet\\n*\\tOne capital letter\\n*\\tOne number\\n*\\tNot less than 6 letter and more than 11 letter')\n",
        "\n",
        "# verifying username\n",
        "u_name = input('Please type an User Name: ')\n",
        "if mycol.find({'_id':u_name}).count()==0 and len(u_name)>=6<=11:\n",
        "  print('Username available.')\n",
        "else:\n",
        "  print('Username unavailable.\\nPlease check another username: ')\n",
        "  u_name = input()\n",
        "  user_name_verifier(u_name)\n",
        "\n",
        "re_u_name = input('Re-type User Name: ') # to step verification\n",
        "\n",
        "if u_name == re_u_name:\n",
        "  pass\n",
        "else:\n",
        "  print('User Name does not match')\n",
        "  re_u_name = input('Please re-type User Name: ')\n",
        "\n",
        "# Consumer name and occupation\n",
        "f_name = input('First Name: ')\n",
        "m_name = input('Middle Name: ')\n",
        "s_name = input('Last Name: ')\n",
        "if len(m_name) == 0:\n",
        "  name = f_name+' '+s_name\n",
        "else:\n",
        "  name = f_name+' '+m_name+' '+s_name\n",
        "occupation = input(\"{0}'s occupation: \".format(name))\n",
        "\n",
        "# consumer contact details and address\n",
        "mob = input('Please type your 10 digit mobile Number: ')\n",
        "re_mob = input('Please re-type your 10 digit mobile Number: ')\n",
        "if len(mob) == 10 and mob == re_mob:\n",
        "  pass\n",
        "else:\n",
        "  print('Invalid mobile number.\\nPlease type your valid 10 digit mobile number:')\n",
        "  mob = input()\n",
        "\n",
        "email = input('Please type your mail ID: ')\n",
        "if email.endswith('@gmail.com'):\n",
        "  pass\n",
        "else:\n",
        "  print('Invaild email ID.\\nPlease re-type your valid mail ID: ')\n",
        "  email = input()\n",
        "\n",
        "ac_type = input('Account type: ')\n",
        "\n",
        "print('Fill the address Details')\n",
        "street = input('Village/street name: ')\n",
        "dist = input('District: ')\n",
        "state = input('State: ')\n",
        "zip_code = int(input('PIN code: '))\n",
        "\n",
        "# consumer document details. (PAN and Adhar)\n",
        "print('Fillup Document Detalis')\n",
        "adhar = input('Please type your Adhar Details: ')\n",
        "r_adhar = input('Please re-type your Adhar Details: ')\n",
        "if adhar == r_adhar and len(adhar)== 12:\n",
        "  pass\n",
        "else:\n",
        "  print('Invalid number type or number length.\\nPlease type your 12 digit Unique Identification Number again: ')\n",
        "  adhar = input()\n",
        "\n",
        "pan = input('Type your PAN details: ')\n",
        "r_pan = input('Re-type your PAN details: ')\n",
        "if pan==r_pan:\n",
        "  pass\n",
        "else:\n",
        "  print('PAN does not match.\\nPlease re-type PAN number: ')\n",
        "  pan = input()\n",
        "\n",
        "# opening amount\n",
        "opening_amt = float(input('Opening amout ₹: '))\n",
        "\n",
        "# user security pin number\n",
        "print('Secure your account with password.\\nThe password should be of 6 digits only.\\n*No letter or special charecter.')\n",
        "m_pin = getpass('Password: ')\n",
        "\n",
        "# saving statement\n",
        "operation = 'opening'\n",
        "now = datetime.now(pytz.timezone('Asia/Kolkata'))\n",
        "dt= now.strftime('%d/%m/%Y %H:%M')\n",
        "\n",
        "# Adding document to database\n",
        "n_dict = {'_id':u_name,\n",
        "          'name':name,\n",
        "          'occupation':occupation,\n",
        "          'account_type':ac_type,\n",
        "          'contact_details':{\n",
        "              'mob':mob,\n",
        "              'emial':email,\n",
        "              'address':{\n",
        "                  'street':street,\n",
        "                  'dist':dist,\n",
        "                  'state':state,\n",
        "                  'zip': zip_code}\n",
        "                  },\n",
        "          'documents':{\n",
        "              'adhar':adhar,\n",
        "              'pan':pan\n",
        "              },\n",
        "          'balance':opening_amt,\n",
        "          'mPIN':m_pin,\n",
        "          'statement':{\n",
        "              dt:operation\n",
        "          }\n",
        "          }\n",
        "\n",
        "mycol.insert_one(n_dict)\n",
        "\n",
        "# printing final statement\n",
        "print('Congratulations! Your account has opened.\\nPlease deposite the opening amount at cash counter.');"
      ],
      "execution_count": 9,
      "outputs": [
        {
          "name": "stdout",
          "output_type": "stream",
          "text": [
            "Wellcome to PyBankingWay!\n",
            "Note: This is an acoount opening form.\n",
            "Choose an unique User Name, this will be your identity for the bank.\n",
            "Becareful while filling the form.\n",
            "The user name should contain at least\n",
            "*\tOne alphabet\n",
            "*\tOne capital letter\n",
            "*\tOne number\n",
            "*\tNot less than 6 letter and more than 11 letter\n",
            "Please type an User Name: MikiMinski7\n"
          ]
        },
        {
          "output_type": "stream",
          "name": "stderr",
          "text": [
            "/usr/local/lib/python3.7/dist-packages/ipykernel_launcher.py:12: DeprecationWarning: count is deprecated. Use Collection.count_documents instead.\n",
            "  if sys.path[0] == '':\n"
          ]
        },
        {
          "output_type": "stream",
          "name": "stdout",
          "text": [
            "Username available.\n",
            "Re-type User Name: MikiMinski7\n",
            "First Name: Mikky\n",
            "Middle Name: \n",
            "Last Name: Minsky\n",
            "Mikky Minsky's occupation: Farmer\n",
            "Please type your 10 digit mobile Number: 8527898541\n",
            "Please re-type your 10 digit mobile Number: 8527898541\n",
            "Please type your mail ID: mikiminsky@gmail.com\n",
            "Account type: saving\n",
            "Fill the address Details\n",
            "Village/street name: Mirzapur\n",
            "District: Mirzapur\n",
            "State: Uttar Pradesh\n",
            "PIN code: 231001\n",
            "Fillup Document Detalis\n",
            "Please type your Adhar Details: 789654123654\n",
            "Please re-type your Adhar Details: 789654123654\n",
            "Type your PAN details: JKNTE4LSU\n",
            "Re-type your PAN details: JKNTE4LSU\n",
            "Opening amout ₹: 50000\n",
            "Secure your account with password.\n",
            "The password should be of 6 digits only.\n",
            "*No letter or special charecter.\n",
            "Password: ··········\n",
            "Congratulations! Your account has opened.\n",
            "Please deposite the opening amount at cash counter.\n"
          ]
        }
      ]
    },
    {
      "cell_type": "code",
      "metadata": {
        "id": "Ww80X9-MEbdC"
      },
      "source": [
        ""
      ],
      "execution_count": null,
      "outputs": []
    },
    {
      "cell_type": "markdown",
      "metadata": {
        "id": "j_EICgS0GjVY"
      },
      "source": [
        "# Deposite, Withdrawl, Balance enquiry, and A/c Statement form"
      ]
    },
    {
      "cell_type": "code",
      "metadata": {
        "colab": {
          "base_uri": "https://localhost:8080/"
        },
        "id": "mild_uXmGoNn",
        "outputId": "149640fd-80e7-498c-f970-19babc72b712"
      },
      "source": [
        "u_name = input('Type your user name: ')\n",
        "m_pin = getpass('Type your password: ')\n",
        "\n",
        "filter = {'_id':u_name}\n",
        "\n",
        "# verify user credential\n",
        "for i in mycol.find(filter):\n",
        "  if i['mPIN'] == m_pin:\n",
        "    verification = True\n",
        "    print('Wellcome to PyBankingWay')\n",
        "    \n",
        "  else:\n",
        "    verification = False\n",
        "    print(\"Acount credentials do not match.\\nTry after sometime.\")\n",
        "    break\n",
        "\n",
        "if verification == True:\n",
        "  # show options to user\n",
        "  query = {'Deposite':1,\n",
        "           'Withdrawl':2,\n",
        "           'Balance Enquiry':3,\n",
        "           'A/c Statement': 4,\n",
        "           'Change Password':5}\n",
        "\n",
        "  for k,v in query.items():\n",
        "    print('for',k,'type',v)\n",
        "  u_input = int(input())\n",
        "\n",
        "  if u_input == 1: # deposite\n",
        "    deposite_balance = float(input('Deposite amount ₹: '))\n",
        "    for x in mycol.find(filter):\n",
        "      existing_balance = x['balance']\n",
        "      old_statement = x['statement']\n",
        "      new_balance = existing_balance + deposite_balance\n",
        "    \n",
        "    operation = '+ ₹'+str(deposite_balance)\n",
        "    now = datetime.now(pytz.timezone('Asia/Kolkata'))\n",
        "    dt= now.strftime('%d/%m/%Y %H:%M')\n",
        "    old_statement[dt] = operation\n",
        "    \n",
        "    mycol.update_one(filter,{'$set':{'balance':new_balance}}) # updating statement\n",
        "    mycol.update_one(filter, {'$set':{'statement':old_statement}}) # update statement\n",
        "    print('Your account Balance is updated')\n",
        "    for x in mycol.find(filter):\n",
        "      print('Your currrent balance:',x['balance'],'₹')\n",
        "  \n",
        "  elif u_input == 2: # withdrawl\n",
        "    withdrawl_balance = float(input('Withdrawl amountn ₹: '))\n",
        "    for x in mycol.find(filter):\n",
        "      existing_balance = x['balance']\n",
        "      old_statement = x['statement']\n",
        "      if (existing_balance <= withdrawl_balance):\n",
        "        print('Insufficient fund.\\nYour current balance is {}'.format(x['balance']))\n",
        "      else:\n",
        "        new_balance = existing_balance - withdrawl_balance\n",
        "\n",
        "        operation = '- ₹'+str(withdrawl_balance)\n",
        "        now = datetime.now(pytz.timezone('Asia/Kolkata'))\n",
        "        dt = now.strftime('%d/%m/%Y %H:%M')\n",
        "        old_statement[dt] = operation\n",
        "\n",
        "        mycol.update_one(filter,{'$set':{'balance':new_balance}})\n",
        "        mycol.update_one(filter,{'$set':{'statement':old_statement}})\n",
        "        print('Account Balance: {}\\nPlease collect your cash'.format(str(new_balance)))\n",
        "  \n",
        "  elif u_input == 3: # Balance Enquiry\n",
        "    for x in mycol.find(filter):\n",
        "      print('A/c Balance: ',x['balance'],'₹')\n",
        "  \n",
        "  elif u_input == 4: # Payment Statement\n",
        "    for x in mycol.find(filter):\n",
        "      print('A/c Balance: ', x['balance'],'₹')\n",
        "      print('A/c Statement:')\n",
        "      for k,v in x['statement'].items():\n",
        "        print(k,v)\n",
        "\n",
        "  elif u_input == 5: # Change security pin\n",
        "    for x in mycol.find(filter):\n",
        "      new_pin = getpass('Type your new password: ')\n",
        "      r_new_pin = getpass('Re-type your new password: ')\n",
        "\n",
        "      if new_pin == r_new_pin:\n",
        "        mycol.update_one(filter,{'$set':{'mPIN':new_pin}})\n",
        "        print('Password changed succesfully.')\n",
        "      else:\n",
        "        print('Pin does not match.\\nTry after sometime.')"
      ],
      "execution_count": 13,
      "outputs": [
        {
          "output_type": "stream",
          "name": "stdout",
          "text": [
            "Type your user name: Ashru1\n",
            "Type your password: ··········\n",
            "Wellcome to PyBankingWay\n",
            "for Deposite type 1\n",
            "for Withdrawl type 2\n",
            "for Balance Enquiry type 3\n",
            "for A/c Statement type 4\n",
            "for Change Password type 5\n",
            "5\n",
            "Type your new password: ··········\n",
            "Re-type your new password: ··········\n",
            "Password changed succesfully.\n"
          ]
        }
      ]
    },
    {
      "cell_type": "code",
      "metadata": {
        "id": "dr71wdMQHqkW"
      },
      "source": [
        ""
      ],
      "execution_count": null,
      "outputs": []
    }
  ]
}